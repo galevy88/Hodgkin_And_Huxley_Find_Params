{
 "cells": [
  {
   "cell_type": "markdown",
   "metadata": {},
   "source": [
    "## Generating Data Base On Equations"
   ]
  },
  {
   "cell_type": "markdown",
   "metadata": {},
   "source": [
    "$$\\alpha = \\frac{0.01(V+55)}{1-e^{-(\\frac{V+55}{10})}}$$\n",
    "$$\\hspace{1cm}$$\n",
    "$$\\beta = 0.125e^{-(\\frac{V+65}{80})}$$\n",
    "$$\\hspace{1cm}$$\n",
    "$$\\tau = \\frac{1}{\\alpha + \\beta}$$\n",
    "$$\\hspace{1cm}$$\n",
    "$$n_\\infty = \\frac{\\alpha}{\\alpha + \\beta}$$\n",
    "$$\\hspace{1cm}$$\n",
    "$$n = n_\\infty(1-e^{\\frac{-t}{\\tau}})$$\n",
    "$$I_k = \\hat{g}_k * n^4(V-E_k)$$\n"
   ]
  },
  {
   "cell_type": "code",
   "execution_count": 1,
   "metadata": {},
   "outputs": [],
   "source": [
    "#Import for Libs\n",
    "import numpy as np\n",
    "import pandas as pd\n",
    "import matplotlib.pyplot as plt"
   ]
  },
  {
   "cell_type": "code",
   "execution_count": 2,
   "metadata": {},
   "outputs": [],
   "source": [
    "# Define Constants For Equations\n",
    "\n",
    "V = 0\n",
    "GK_HAT = 36.0\n",
    "EK = -77\n",
    "EL = -30\n",
    "GL = 0.3\n",
    "\n",
    "W1 = 0.01\n",
    "W2 = 55\n",
    "W3 = 10\n",
    "U1 = 0.125\n",
    "U2 = 65\n",
    "U3 = 80\n",
    "\n",
    "TEND = 10\n",
    "HT = 0.02\n",
    "TIMES_SIZE = TEND / HT\n",
    "# N0 = 0\n",
    "# N0 = alpha / (alpha + beta)\n",
    "def alpha(V):\n",
    "    alpha =  W1*(V + W2)/(1 - np.exp(-(V + W2) / W3))\n",
    "    return alpha\n",
    "\n",
    "def beta(V):\n",
    "    beta = U1 * np.exp(-(V + U2) / U3)\n",
    "    return beta\n",
    "\n",
    "def N0(V):\n",
    "    return alpha(V) / (alpha(V) + beta(V))\n",
    "tau = 1 / (alpha(V) + beta(V))"
   ]
  },
  {
   "cell_type": "code",
   "execution_count": 3,
   "metadata": {},
   "outputs": [],
   "source": [
    "V_ARR_SIZE = 18\n",
    "TIMES_SIZE = 5000\n",
    "V_ARR = [-90, -80, -70, -60, -50, -40, -30, -20, -10, 0, 10, 20, 30, 40, 50, 60, 70, 80]\n",
    "TIMES = np.linspace(0,0.003, num=TIMES_SIZE)\n",
    "Matrix = np.zeros(TIMES_SIZE*V_ARR_SIZE, dtype=float)\n",
    "Matrix.shape=(TIMES_SIZE,V_ARR_SIZE)\n",
    "II = np.zeros(TIMES_SIZE)"
   ]
  },
  {
   "cell_type": "code",
   "execution_count": 4,
   "metadata": {},
   "outputs": [],
   "source": [
    "\n",
    "j = 0\n",
    "for V in V_ARR:\n",
    "    for k in range(0,TIMES_SIZE):\n",
    "        n_inf = alpha(V) / (alpha(V) + beta(V))\n",
    "        nt = (N0(V)-n_inf) * np.exp(-k*(tau)) + n_inf\n",
    "        II[k] = GL * (V-EL) + GK_HAT * np.power(nt, 4) * (V - EK)\n",
    "        Matrix[k,j] = II[k] / 1000\n",
    "    j += 1"
   ]
  },
  {
   "cell_type": "code",
   "execution_count": 5,
   "metadata": {},
   "outputs": [],
   "source": [
    "df = pd.DataFrame(Matrix)\n",
    "# print(Matrix)\n",
    "# print(df)"
   ]
  },
  {
   "cell_type": "code",
   "execution_count": 6,
   "metadata": {},
   "outputs": [
    {
     "data": {
      "image/png": "[encoded data removed]",
      "text/plain": [
       "<Figure size 640x480 with 1 Axes>"
      ]
     },
     "metadata": {},
     "output_type": "display_data"
    }
   ],
   "source": [
    "\n",
    "plt.title(\"Voltage Clamp\")\n",
    "plt.xlabel(\"Time(ms)\")\n",
    "plt.ylabel(\"Current(A)\")\n",
    "plt.plot(df);"
   ]
  }
 ],
 "metadata": {
  "kernelspec": {
   "display_name": "Python 3.10.6 64-bit",
   "language": "python",
   "name": "python3"
  },
  "language_info": {
   "codemirror_mode": {
    "name": "ipython",
    "version": 3
   },
   "file_extension": ".py",
   "mimetype": "text/x-python",
   "name": "python",
   "nbconvert_exporter": "python",
   "pygments_lexer": "ipython3",
   "version": "3.10.6"
  },
  "orig_nbformat": 4,
  "vscode": {
   "interpreter": {
    "hash": "bcb91e4ac24b02faa61636983a0f317445feabccf1fd4896758115a069764a80"
   }
  }
 },
 "nbformat": 4,
 "nbformat_minor": 2
}
