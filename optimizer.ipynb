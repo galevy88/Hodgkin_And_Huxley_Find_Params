{
 "cells": [
  {
   "cell_type": "code",
   "execution_count": null,
   "metadata": {},
   "outputs": [],
   "source": [
    "import torch\n",
    "import pandas as pd\n",
    "from functools import partial"
   ]
  },
  {
   "cell_type": "code",
   "execution_count": 5,
   "metadata": {},
   "outputs": [],
   "source": [
    "def alpha_n(V, c1, c2 ,c3 ,c4):\n",
    "    result_alpha = (c1 * (V + c2)) / (1 - torch.exp(-c3 * (V + c4)))\n",
    "    print(f\"result_alpha: {result_alpha}\")\n",
    "    return result_alpha\n",
    "def beta_n(V, c5, c6, c7):\n",
    "    result_beta = c5 * (torch.exp(-c6 * ( V + c7 )))\n",
    "    print(f\"result_beta: {result_beta}\")\n",
    "    return result_beta\n",
    "def n_inf(alpha, beta):\n",
    "    result_n_inf =  alpha() / (alpha() + beta())\n",
    "    print(f\"result   inf: {result_n_inf}\")\n",
    "    return result_n_inf\n",
    "def tau_n(alpha, beta):\n",
    "    result_tau = 1 / (alpha() + beta())\n",
    "    print(f\"result tau  : {result_tau}\")\n",
    "    return result_tau\n",
    "def n_pow_4(n):\n",
    "    result_n =  n ** 4\n",
    "    print(f\"result     n: {result_n}\")\n",
    "    return result_n"
   ]
  },
  {
   "cell_type": "code",
   "execution_count": 6,
   "metadata": {},
   "outputs": [],
   "source": [
    "def loss_fn(model, inputs, labels):\n",
    "    predictions = model(inputs)\n",
    "    return torch.nn.functional.l1_loss(predictions, labels)"
   ]
  },
  {
   "cell_type": "code",
   "execution_count": 7,
   "metadata": {},
   "outputs": [],
   "source": [
    "def train_model(model, optimizer, nepochs, data):\n",
    "    running_loss = 0\n",
    "    for e in range(nepochs):\n",
    "        for index, row in data.iterrows():\n",
    "            inputs = torch.tensor(row.values[[0,1]])\n",
    "            labels = torch.tensor(row.values[2])\n",
    "            optimizer.zero_grad()\n",
    "            loss = loss_fn(model, inputs, labels)\n",
    "            loss.backward()\n",
    "            optimizer.step()\n",
    "            running_loss += loss.item()\n",
    "        print(\"Epoch: {}/{}.. \".format(e+1, nepochs), \"Training Loss: {:.3f} \".format(running_loss/len(data)))\n",
    "\n"
   ]
  },
  {
   "cell_type": "code",
   "execution_count": 8,
   "metadata": {},
   "outputs": [],
   "source": [
    "class Model(torch.nn.Module):\n",
    "    def __init__(self, constants):\n",
    "        super(Model, self).__init__()\n",
    "        self.constants = torch.nn.Parameter(constants)\n",
    "\n",
    "    def forward(self, inputs):\n",
    "        t, V = inputs\n",
    "        c1, c2, c3, c4, c5, c6, c7 = self.constants\n",
    "        alpha = partial(alpha_n, V=V, c1=c1, c2=c2, c3=c3, c4=c4)\n",
    "        beta = partial(beta_n, V=V, c5=c5, c6=c6, c7=c7)\n",
    "        n = n_inf(alpha, beta) * (1 - torch.exp(-t/tau_n(alpha, beta)))\n",
    "        y = n_pow_4(n)\n",
    "        return y\n",
    "\n",
    "    def get_params(self):\n",
    "        return self.constants\n",
    "\n"
   ]
  },
  {
   "cell_type": "code",
   "execution_count": null,
   "metadata": {},
   "outputs": [],
   "source": [
    "\n",
    "#constants = torch.tensor([0.01,55,-0.1,55,-0.0556,25,0.125,-0.0125,65,-0.0025,25])\n",
    "constants = torch.tensor(torch.randn(7))\n",
    "\n",
    "model = Model(constants)\n",
    "optimizer = torch.optim.Adam(model.parameters(), lr=0.01)\n",
    "nepochs = 5\n",
    "data = pd.read_csv('Prod/dataset.csv')\n",
    "\n",
    "train_model(model, optimizer, nepochs, data)\n",
    "nums = model.get_params()\n",
    "for number in nums:\n",
    "    print('{:.5f}'.format(number))\n"
   ]
  }
 ],
 "metadata": {
  "kernelspec": {
   "display_name": "Python 3",
   "language": "python",
   "name": "python3"
  },
  "language_info": {
   "codemirror_mode": {
    "name": "ipython",
    "version": 3
   },
   "file_extension": ".py",
   "mimetype": "text/x-python",
   "name": "python",
   "nbconvert_exporter": "python",
   "pygments_lexer": "ipython3",
   "version": "3.10.6"
  },
  "orig_nbformat": 4,
  "vscode": {
   "interpreter": {
    "hash": "bcb91e4ac24b02faa61636983a0f317445feabccf1fd4896758115a069764a80"
   }
  }
 },
 "nbformat": 4,
 "nbformat_minor": 2
}
