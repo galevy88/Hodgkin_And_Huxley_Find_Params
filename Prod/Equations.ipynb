{
 "cells": [
  {
   "attachments": {},
   "cell_type": "markdown",
   "metadata": {},
   "source": [
    "Known:\n",
    "\n",
    "$$ \\alpha_n(V) = \\frac{0.01(V + 55)}{1 - e^{-0.1(V + 55)}} $$\n",
    "\n",
    "\n",
    "$$ \\beta_n(V) = 0.125e^{-0.0125(V + 65)} $$\n",
    "\n",
    "\n",
    "$$ n_{\\infty}(\\alpha, \\beta) = \\frac{\\alpha}{\\alpha + \\beta} $$\n",
    "\n",
    "\n",
    "$$ \\tau_n(\\alpha, \\beta) = \\frac{1}{\\alpha + \\beta} $$\n",
    "\n",
    "\n",
    "$$ y(t, V) = n_{\\infty} \\cdot (1 - e^{-t/\\tau_n})^4 $$"
   ]
  },
  {
   "attachments": {},
   "cell_type": "markdown",
   "metadata": {},
   "source": [
    "$$ \\alpha_n(V) = \\frac{c1(V + c2)}{1 - e^{-c3(V + c4)}} $$\n",
    "\n",
    "\n",
    "$$ \\beta_n(V) = c5e^{-c6(V + c7)} $$\n",
    "\n",
    "\n",
    "$$ n_{\\infty}(\\alpha, \\beta) = \\frac{\\alpha}{\\alpha + \\beta} $$\n",
    "\n",
    "\n",
    "$$ \\tau_n(\\alpha, \\beta) = \\frac{1}{\\alpha + \\beta} $$\n",
    "\n",
    "\n",
    "$$ y(t, V) = (n_{\\infty} \\cdot (1 - e^{-t/\\tau_n}))^{c_8} $$"
   ]
  }
 ],
 "metadata": {
  "language_info": {
   "name": "python"
  },
  "orig_nbformat": 4
 },
 "nbformat": 4,
 "nbformat_minor": 2
}
